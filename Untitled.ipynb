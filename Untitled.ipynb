{
 "cells": [
  {
   "cell_type": "code",
   "execution_count": 1,
   "id": "42f22cdc-81bf-4ea0-b6b8-c30c083f4026",
   "metadata": {
    "tags": []
   },
   "outputs": [],
   "source": [
    "import dash\n",
    "from dash import html, dcc\n",
    "import pandas as pd\n",
    "import plotly.express as px\n",
    "from dash import dash_table"
   ]
  },
  {
   "cell_type": "code",
   "execution_count": 2,
   "id": "9109097d-aad3-4b04-8fbc-2dfe0cd5abff",
   "metadata": {
    "tags": []
   },
   "outputs": [],
   "source": [
    "colors = {\n",
    "    'background': '#F9F9F9',\n",
    "    'text': '#007BFF',\n",
    "    'plotly': ['#007BFF', '#FF4136', '#2ECC40', '#FF851B', '#7FDBFF', '#B10DC9'],\n",
    "    'card_background': '#FFFFFF'\n",
    "}"
   ]
  },
  {
   "cell_type": "code",
   "execution_count": 17,
   "id": "3472479a-d138-4167-ae70-296b3349d3ce",
   "metadata": {
    "tags": []
   },
   "outputs": [],
   "source": [
    "df = pd.read_csv('data.csv', delimiter=';')"
   ]
  },
  {
   "cell_type": "code",
   "execution_count": 18,
   "id": "68b0da13-ecab-45ac-8efb-1e49e924b67c",
   "metadata": {
    "tags": []
   },
   "outputs": [],
   "source": [
    "mapping_df = pd.read_excel('Mapping_noms_variables_sphinx.xlsx')"
   ]
  },
  {
   "cell_type": "code",
   "execution_count": 19,
   "id": "312cb7dd-21b6-4365-89e5-1a427183f702",
   "metadata": {
    "tags": []
   },
   "outputs": [],
   "source": [
    " column_mapping = dict(zip(mapping_df['Anciens Noms'], mapping_df['Nouveaux Noms']))"
   ]
  },
  {
   "cell_type": "code",
   "execution_count": 20,
   "id": "00d5287c-9773-405f-85b8-9072494dbb30",
   "metadata": {
    "tags": []
   },
   "outputs": [],
   "source": [
    "df.rename(columns=column_mapping, inplace=True)"
   ]
  },
  {
   "cell_type": "code",
   "execution_count": 24,
   "id": "c5abe0f2-21db-4e11-a8f7-9200b8ffc51f",
   "metadata": {
    "tags": []
   },
   "outputs": [
    {
     "data": {
      "text/html": [
       "<div>\n",
       "<style scoped>\n",
       "    .dataframe tbody tr th:only-of-type {\n",
       "        vertical-align: middle;\n",
       "    }\n",
       "\n",
       "    .dataframe tbody tr th {\n",
       "        vertical-align: top;\n",
       "    }\n",
       "\n",
       "    .dataframe thead th {\n",
       "        text-align: right;\n",
       "    }\n",
       "</style>\n",
       "<table border=\"1\" class=\"dataframe\">\n",
       "  <thead>\n",
       "    <tr style=\"text-align: right;\">\n",
       "      <th></th>\n",
       "      <th>Clien_Name</th>\n",
       "      <th>Secteur</th>\n",
       "      <th>axe-reglement</th>\n",
       "      <th>reglement</th>\n",
       "      <th>reglement.1</th>\n",
       "      <th>reglement.2</th>\n",
       "      <th>Gestion de continuité d'activité - Aspects de la sécurité de l'information en matière \\nde gestion de la continuté d'activité 1</th>\n",
       "      <th>Gestion de continuité d'activité - Aspects de la sécurité de l'information en matière \\nde gestion de la continuté d'activité 2</th>\n",
       "      <th>Gestion de continuité d'activité - Aspects de la sécurité de l'information en matière \\nde gestion de la continuté d'activité 3</th>\n",
       "      <th>Conformité - Conformité aux obligations légales et réglementaires 1</th>\n",
       "      <th>...</th>\n",
       "      <th>CLE</th>\n",
       "      <th>DATE_SAISIE</th>\n",
       "      <th>DATE_ENREG</th>\n",
       "      <th>DATE_MODIF</th>\n",
       "      <th>TEMPS_SAISIE</th>\n",
       "      <th>ORIGINE_SAISIE</th>\n",
       "      <th>LANG_SAISIE</th>\n",
       "      <th>APPAREIL_SAISIE</th>\n",
       "      <th>PROGRESSION</th>\n",
       "      <th>DERNIERE_QUESTION_SAISIE</th>\n",
       "    </tr>\n",
       "  </thead>\n",
       "  <tbody>\n",
       "    <tr>\n",
       "      <th>0</th>\n",
       "      <td>emi</td>\n",
       "      <td>Entité</td>\n",
       "      <td>Règlement</td>\n",
       "      <td>DNSSI</td>\n",
       "      <td>NaN</td>\n",
       "      <td>NaN</td>\n",
       "      <td>5.0</td>\n",
       "      <td>5.0</td>\n",
       "      <td>5.0</td>\n",
       "      <td>5.0</td>\n",
       "      <td>...</td>\n",
       "      <td>T84T-UNRG</td>\n",
       "      <td>4/30/2024 6:22:25 PM</td>\n",
       "      <td>4/30/2024 6:24:44 PM</td>\n",
       "      <td>NaN</td>\n",
       "      <td>138.710197</td>\n",
       "      <td>Direct</td>\n",
       "      <td>EN</td>\n",
       "      <td>PC</td>\n",
       "      <td>Finished</td>\n",
       "      <td>NaN</td>\n",
       "    </tr>\n",
       "    <tr>\n",
       "      <th>1</th>\n",
       "      <td>Client1</td>\n",
       "      <td>Entité</td>\n",
       "      <td>Règlement</td>\n",
       "      <td>DNSSI</td>\n",
       "      <td>NaN</td>\n",
       "      <td>NaN</td>\n",
       "      <td>4.0</td>\n",
       "      <td>4.0</td>\n",
       "      <td>4.0</td>\n",
       "      <td>4.0</td>\n",
       "      <td>...</td>\n",
       "      <td>XG8X-BQBE</td>\n",
       "      <td>4/30/2024 10:05:38 PM</td>\n",
       "      <td>4/30/2024 10:39:20 PM</td>\n",
       "      <td>NaN</td>\n",
       "      <td>2022.422746</td>\n",
       "      <td>Direct</td>\n",
       "      <td>EN</td>\n",
       "      <td>PC</td>\n",
       "      <td>Finished</td>\n",
       "      <td>NaN</td>\n",
       "    </tr>\n",
       "    <tr>\n",
       "      <th>2</th>\n",
       "      <td>client AD</td>\n",
       "      <td>Entité</td>\n",
       "      <td>Règlement</td>\n",
       "      <td>DNSSI</td>\n",
       "      <td>NaN</td>\n",
       "      <td>NaN</td>\n",
       "      <td>2.0</td>\n",
       "      <td>1.0</td>\n",
       "      <td>2.0</td>\n",
       "      <td>3.0</td>\n",
       "      <td>...</td>\n",
       "      <td>AQW6-LXAM</td>\n",
       "      <td>5/2/2024 9:21:14 AM</td>\n",
       "      <td>5/2/2024 9:36:56 AM</td>\n",
       "      <td>NaN</td>\n",
       "      <td>942.251108</td>\n",
       "      <td>Direct</td>\n",
       "      <td>EN</td>\n",
       "      <td>PC</td>\n",
       "      <td>Finished</td>\n",
       "      <td>NaN</td>\n",
       "    </tr>\n",
       "    <tr>\n",
       "      <th>3</th>\n",
       "      <td>Client AB</td>\n",
       "      <td>Entité</td>\n",
       "      <td>Règlement</td>\n",
       "      <td>DNSSI</td>\n",
       "      <td>NaN</td>\n",
       "      <td>NaN</td>\n",
       "      <td>4.0</td>\n",
       "      <td>4.0</td>\n",
       "      <td>3.0</td>\n",
       "      <td>4.0</td>\n",
       "      <td>...</td>\n",
       "      <td>VU73-X69J</td>\n",
       "      <td>5/2/2024 9:57:49 AM</td>\n",
       "      <td>5/2/2024 10:03:56 AM</td>\n",
       "      <td>NaN</td>\n",
       "      <td>367.326210</td>\n",
       "      <td>Direct</td>\n",
       "      <td>EN</td>\n",
       "      <td>PC</td>\n",
       "      <td>Finished</td>\n",
       "      <td>NaN</td>\n",
       "    </tr>\n",
       "    <tr>\n",
       "      <th>4</th>\n",
       "      <td>client AM</td>\n",
       "      <td>Entité</td>\n",
       "      <td>Règlement</td>\n",
       "      <td>DNSSI</td>\n",
       "      <td>NaN</td>\n",
       "      <td>NaN</td>\n",
       "      <td>2.0</td>\n",
       "      <td>2.0</td>\n",
       "      <td>4.0</td>\n",
       "      <td>2.0</td>\n",
       "      <td>...</td>\n",
       "      <td>K49G-6P9L</td>\n",
       "      <td>5/2/2024 10:27:58 AM</td>\n",
       "      <td>5/2/2024 10:31:23 AM</td>\n",
       "      <td>NaN</td>\n",
       "      <td>204.747197</td>\n",
       "      <td>Direct</td>\n",
       "      <td>EN</td>\n",
       "      <td>PC</td>\n",
       "      <td>Finished</td>\n",
       "      <td>NaN</td>\n",
       "    </tr>\n",
       "  </tbody>\n",
       "</table>\n",
       "<p>5 rows × 117 columns</p>\n",
       "</div>"
      ],
      "text/plain": [
       "  Clien_Name Secteur axe-reglement reglement  reglement.1  reglement.2  \\\n",
       "0        emi  Entité     Règlement     DNSSI          NaN          NaN   \n",
       "1    Client1  Entité     Règlement     DNSSI          NaN          NaN   \n",
       "2  client AD  Entité     Règlement     DNSSI          NaN          NaN   \n",
       "3  Client AB  Entité     Règlement     DNSSI          NaN          NaN   \n",
       "4  client AM  Entité     Règlement     DNSSI          NaN          NaN   \n",
       "\n",
       "   Gestion de continuité d'activité - Aspects de la sécurité de l'information en matière \\nde gestion de la continuté d'activité 1  \\\n",
       "0                                                5.0                                                                                 \n",
       "1                                                4.0                                                                                 \n",
       "2                                                2.0                                                                                 \n",
       "3                                                4.0                                                                                 \n",
       "4                                                2.0                                                                                 \n",
       "\n",
       "   Gestion de continuité d'activité - Aspects de la sécurité de l'information en matière \\nde gestion de la continuté d'activité 2  \\\n",
       "0                                                5.0                                                                                 \n",
       "1                                                4.0                                                                                 \n",
       "2                                                1.0                                                                                 \n",
       "3                                                4.0                                                                                 \n",
       "4                                                2.0                                                                                 \n",
       "\n",
       "   Gestion de continuité d'activité - Aspects de la sécurité de l'information en matière \\nde gestion de la continuté d'activité 3  \\\n",
       "0                                                5.0                                                                                 \n",
       "1                                                4.0                                                                                 \n",
       "2                                                2.0                                                                                 \n",
       "3                                                3.0                                                                                 \n",
       "4                                                4.0                                                                                 \n",
       "\n",
       "   Conformité - Conformité aux obligations légales et réglementaires 1  ...  \\\n",
       "0                                                5.0                    ...   \n",
       "1                                                4.0                    ...   \n",
       "2                                                3.0                    ...   \n",
       "3                                                4.0                    ...   \n",
       "4                                                2.0                    ...   \n",
       "\n",
       "         CLE            DATE_SAISIE             DATE_ENREG  DATE_MODIF  \\\n",
       "0  T84T-UNRG   4/30/2024 6:22:25 PM   4/30/2024 6:24:44 PM         NaN   \n",
       "1  XG8X-BQBE  4/30/2024 10:05:38 PM  4/30/2024 10:39:20 PM         NaN   \n",
       "2  AQW6-LXAM    5/2/2024 9:21:14 AM    5/2/2024 9:36:56 AM         NaN   \n",
       "3  VU73-X69J    5/2/2024 9:57:49 AM   5/2/2024 10:03:56 AM         NaN   \n",
       "4  K49G-6P9L   5/2/2024 10:27:58 AM   5/2/2024 10:31:23 AM         NaN   \n",
       "\n",
       "   TEMPS_SAISIE  ORIGINE_SAISIE  LANG_SAISIE  APPAREIL_SAISIE  PROGRESSION  \\\n",
       "0    138.710197          Direct           EN               PC     Finished   \n",
       "1   2022.422746          Direct           EN               PC     Finished   \n",
       "2    942.251108          Direct           EN               PC     Finished   \n",
       "3    367.326210          Direct           EN               PC     Finished   \n",
       "4    204.747197          Direct           EN               PC     Finished   \n",
       "\n",
       "   DERNIERE_QUESTION_SAISIE  \n",
       "0                       NaN  \n",
       "1                       NaN  \n",
       "2                       NaN  \n",
       "3                       NaN  \n",
       "4                       NaN  \n",
       "\n",
       "[5 rows x 117 columns]"
      ]
     },
     "execution_count": 24,
     "metadata": {},
     "output_type": "execute_result"
    }
   ],
   "source": [
    "df.head()"
   ]
  },
  {
   "cell_type": "code",
   "execution_count": 22,
   "id": "b6704b43-18d2-4724-9e40-e64e0894e021",
   "metadata": {
    "tags": []
   },
   "outputs": [],
   "source": [
    "client_name = 'emi'"
   ]
  },
  {
   "cell_type": "code",
   "execution_count": 23,
   "id": "dd8f8b33-6962-48d8-8308-238d4bc1cc27",
   "metadata": {
    "tags": []
   },
   "outputs": [],
   "source": [
    "df_client = df[df['Clien_Name'] == client_name]"
   ]
  },
  {
   "cell_type": "code",
   "execution_count": null,
   "id": "42faa6eb-11a8-4601-8d1d-66c2023e5d90",
   "metadata": {},
   "outputs": [],
   "source": []
  }
 ],
 "metadata": {
  "kernelspec": {
   "display_name": "Python 3 (ipykernel)",
   "language": "python",
   "name": "python3"
  },
  "language_info": {
   "codemirror_mode": {
    "name": "ipython",
    "version": 3
   },
   "file_extension": ".py",
   "mimetype": "text/x-python",
   "name": "python",
   "nbconvert_exporter": "python",
   "pygments_lexer": "ipython3",
   "version": "3.10.11"
  }
 },
 "nbformat": 4,
 "nbformat_minor": 5
}
